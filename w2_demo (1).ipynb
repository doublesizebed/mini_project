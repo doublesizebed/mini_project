{
 "cells": [
  {
   "cell_type": "markdown",
   "id": "501bc5c0-5f1f-46b8-a47c-133f7fcbb610",
   "metadata": {},
   "source": [
    "# Learning outcomes\n",
    "- Python fundamentals\n",
    "    * Data types (basic)\n",
    "    * Data types (sequence and mapping)\n",
    "    * Define custom functions\n",
    "- Create arrays with NumPy module\n",
    "- Create simple image and display them"
   ]
  },
  {
   "cell_type": "markdown",
   "id": "93d77706-309d-4089-99b8-ffb1f8849d30",
   "metadata": {},
   "source": [
    "## Python fundamentals\n",
    "\n",
    "### Data types\n",
    "| Class | Data types |\n",
    "| ----- | ----- |\n",
    "| `int` | integer |\n",
    "| `float` | floating point number |\n",
    "| `complex` | complex number |\n",
    "| `str` | string / character |\n",
    "| `bytes` and `bytesarray` | bytes object |\n",
    "| `bool` | Boolean |"
   ]
  },
  {
   "cell_type": "code",
   "execution_count": 1,
   "id": "67b0de43-dc13-4243-bfbe-ce02cc0d1ecb",
   "metadata": {},
   "outputs": [
    {
     "name": "stdout",
     "output_type": "stream",
     "text": [
      "<class 'int'>\n",
      "<class 'float'>\n",
      "<class 'complex'>\n",
      "<class 'str'>\n",
      "<class 'bool'>\n"
     ]
    }
   ],
   "source": [
    "import math\n",
    "\n",
    "print(type(3))\n",
    "print(type(math.pi))\n",
    "print(type(2 + 4j))\n",
    "print(type(\"Python is fun\"))\n",
    "print(type(True))"
   ]
  },
  {
   "cell_type": "markdown",
   "id": "ee411e08-8653-4e89-8b0e-a00731209501",
   "metadata": {},
   "source": [
    "Casting: convert data types"
   ]
  },
  {
   "cell_type": "code",
   "execution_count": 2,
   "id": "bb14deed-54ae-44e0-8e22-d3de187ad31b",
   "metadata": {},
   "outputs": [
    {
     "name": "stdout",
     "output_type": "stream",
     "text": [
      "3\n",
      "8.0\n"
     ]
    }
   ],
   "source": [
    "x = 3.7\n",
    "y = \"8\"\n",
    "\n",
    "print(int(x))\n",
    "print(float(y))"
   ]
  },
  {
   "cell_type": "markdown",
   "id": "b7b6d6be-e55c-471f-ab7a-de1b074c41e5",
   "metadata": {},
   "source": [
    "### Data types (sequence and mapping)\n",
    "\n",
    "#### List and tuple (sequence)\n",
    "Used to store multiple items in a single variable."
   ]
  },
  {
   "cell_type": "code",
   "execution_count": 3,
   "id": "25f6b4a2-e27e-4255-bfdc-5d5706c7582b",
   "metadata": {},
   "outputs": [
    {
     "name": "stdout",
     "output_type": "stream",
     "text": [
      "['a', 'b', 'c']\n",
      "('a', 'b', 'c')\n"
     ]
    }
   ],
   "source": [
    "mylist = [\"a\", \"b\", \"c\"]\n",
    "mytuple = (\"a\", \"b\", \"c\")\n",
    "\n",
    "print(mylist)\n",
    "print(mytuple)"
   ]
  },
  {
   "cell_type": "code",
   "execution_count": 4,
   "id": "0d8f40f3-0456-4317-ba93-fe91dd5ce775",
   "metadata": {},
   "outputs": [
    {
     "data": {
      "text/plain": [
       "[False, 'b', 'c']"
      ]
     },
     "execution_count": 4,
     "metadata": {},
     "output_type": "execute_result"
    }
   ],
   "source": [
    "mylist[0] = False\n",
    "mylist"
   ]
  },
  {
   "cell_type": "code",
   "execution_count": 6,
   "id": "b04b95c1-845b-4ad9-8b45-655dc6515e67",
   "metadata": {},
   "outputs": [
    {
     "name": "stdout",
     "output_type": "stream",
     "text": [
      "'tuple' object does not support item assignment\n"
     ]
    }
   ],
   "source": [
    "try:\n",
    "    mytuple[0] = False\n",
    "except Exception as e:\n",
    "    print(e)"
   ]
  },
  {
   "cell_type": "markdown",
   "id": "7c934713-26b5-49f1-b680-7eb792408ccd",
   "metadata": {},
   "source": [
    "#### dictionary (mapping)\n",
    "store data in the form of *key: value* pairs."
   ]
  },
  {
   "cell_type": "code",
   "execution_count": 15,
   "id": "d217a370-3502-49e4-be96-1e6b469b30d8",
   "metadata": {},
   "outputs": [
    {
     "data": {
      "text/plain": [
       "{'brand': 'Oppo', 'model': 'Reno A78', 'year': 2023, 'price': 999}"
      ]
     },
     "execution_count": 15,
     "metadata": {},
     "output_type": "execute_result"
    }
   ],
   "source": [
    "phone = {\n",
    "    \"brand\": \"Oppo\",\n",
    "    \"model\": \"Reno A78\",\n",
    "    \"year\": 2023,\n",
    "    \"price\": 999\n",
    "}\n",
    "phone"
   ]
  },
  {
   "cell_type": "code",
   "execution_count": 16,
   "id": "590379cc-3502-4148-9b1d-dd3ba23127b9",
   "metadata": {},
   "outputs": [
    {
     "data": {
      "text/plain": [
       "{'brand': 'Oppo', 'model': 'Reno A78', 'year': 2023, 'price': 800}"
      ]
     },
     "execution_count": 16,
     "metadata": {},
     "output_type": "execute_result"
    }
   ],
   "source": [
    "phone[\"price\"] = 800\n",
    "phone"
   ]
  },
  {
   "cell_type": "code",
   "execution_count": 17,
   "id": "cdcc180b-40f0-4711-8383-c2c68fec994e",
   "metadata": {},
   "outputs": [
    {
     "name": "stdout",
     "output_type": "stream",
     "text": [
      "dict_keys(['brand', 'model', 'year', 'price'])\n",
      "dict_values(['Oppo', 'Reno A78', 2023, 800])\n",
      "dict_items([('brand', 'Oppo'), ('model', 'Reno A78'), ('year', 2023), ('price', 800)])\n"
     ]
    }
   ],
   "source": [
    "print(phone.keys())\n",
    "print(phone.values())\n",
    "print(phone.items())"
   ]
  },
  {
   "cell_type": "markdown",
   "id": "8d2229af-40e9-444b-b91f-f1ee04c8d26d",
   "metadata": {},
   "source": [
    "### Exercise"
   ]
  },
  {
   "cell_type": "code",
   "execution_count": 18,
   "id": "d22d9feb-aa50-4b31-b0c5-19f00d474d88",
   "metadata": {},
   "outputs": [
    {
     "data": {
      "text/plain": [
       "[1, 4, 9, 16, 25, 36, 49, 64, 81, 100]"
      ]
     },
     "execution_count": 18,
     "metadata": {},
     "output_type": "execute_result"
    }
   ],
   "source": [
    "# Question 1\n",
    "squared_list = [i * i for i in range(1, 11)]\n",
    "squared_list"
   ]
  },
  {
   "cell_type": "code",
   "execution_count": 19,
   "id": "f0a5931f-880f-4a34-b4f8-0eb140e9416f",
   "metadata": {},
   "outputs": [
    {
     "data": {
      "text/plain": [
       "[1, 4, 9, 16, 25, 36, 49, 64, 81, 100]"
      ]
     },
     "execution_count": 19,
     "metadata": {},
     "output_type": "execute_result"
    }
   ],
   "source": [
    "squared_list = []\n",
    "for i in range(1, 11):\n",
    "    squared_list.append(i * i)\n",
    "\n",
    "squared_list"
   ]
  },
  {
   "cell_type": "code",
   "execution_count": 20,
   "id": "a9e7bbbe-d429-4b2c-aecd-e92e8fc43821",
   "metadata": {},
   "outputs": [
    {
     "data": {
      "text/plain": [
       "{'bread': 4.0, 'milk': 5.2, 'egg': 4.2, 'vegetables': 8.5, 'fish': 20.6}"
      ]
     },
     "execution_count": 20,
     "metadata": {},
     "output_type": "execute_result"
    }
   ],
   "source": [
    "# question 2\n",
    "grocer = ['bread', 'milk', 'egg', 'vegetables', 'fish']\n",
    "prices = [4., 5.2, 4.2, 8.5, 20.6]\n",
    "grocer_prices = {}\n",
    "for k, v in zip(grocer, prices):\n",
    "    grocer_prices[k] = v\n",
    "\n",
    "grocer_prices"
   ]
  },
  {
   "cell_type": "markdown",
   "id": "b54e8df1-2146-490d-a6a6-ee65e4595546",
   "metadata": {},
   "source": [
    "### Custom functions"
   ]
  },
  {
   "cell_type": "code",
   "execution_count": 7,
   "id": "5838ea40-f2c2-43af-9704-42fcf0c6f626",
   "metadata": {},
   "outputs": [],
   "source": [
    "def odd_even(x):\n",
    "    \"\"\"Function to check whether x is an odd or even integer.\n",
    "    Arguments:\n",
    "    ---\n",
    "    x: must be integer\n",
    "    \n",
    "    Return:\n",
    "    ---\n",
    "    statement to show whether x is an odd or even integer\"\"\"\n",
    "    # set up a if control flow\n",
    "    if isinstance(x, int):\n",
    "        if (x % 2 == 0) and (x != 0):\n",
    "            print(f\"{x} is an even integer.\")\n",
    "        elif x % 2 == 1:\n",
    "            print(f\"{x} is an odd integer\")\n",
    "        elif x == 0:\n",
    "            print(f\"{x} is neither odd nor even\")\n",
    "\n",
    "    else:\n",
    "        print(f\"{x} is not an integer.\")"
   ]
  },
  {
   "cell_type": "code",
   "execution_count": 8,
   "id": "bcdda3bb-2e76-41e9-b508-d038d068a8d0",
   "metadata": {},
   "outputs": [
    {
     "name": "stdout",
     "output_type": "stream",
     "text": [
      "0 is neither odd nor even\n"
     ]
    }
   ],
   "source": [
    "odd_even(0)"
   ]
  },
  {
   "cell_type": "code",
   "execution_count": 9,
   "id": "847acf92-3d7f-4cee-b31b-3ddd08adbf54",
   "metadata": {},
   "outputs": [
    {
     "name": "stdout",
     "output_type": "stream",
     "text": [
      "3 is an odd integer\n"
     ]
    }
   ],
   "source": [
    "odd_even(3)"
   ]
  },
  {
   "cell_type": "code",
   "execution_count": 10,
   "id": "83f0fb57-b6ea-4c9d-ae3a-9763867957e4",
   "metadata": {},
   "outputs": [
    {
     "name": "stdout",
     "output_type": "stream",
     "text": [
      "44 is an even integer.\n"
     ]
    }
   ],
   "source": [
    "odd_even(44)"
   ]
  },
  {
   "cell_type": "code",
   "execution_count": 11,
   "id": "6a4b0b7d-678c-4918-8560-47f21e04349c",
   "metadata": {},
   "outputs": [
    {
     "name": "stdout",
     "output_type": "stream",
     "text": [
      "Boring is not an integer.\n"
     ]
    }
   ],
   "source": [
    "odd_even(\"Boring\")"
   ]
  },
  {
   "cell_type": "code",
   "execution_count": 12,
   "id": "3f5ea22e-dde5-489c-9de3-924e5ec67820",
   "metadata": {},
   "outputs": [],
   "source": [
    "def factorial(n):\n",
    "    \"\"\"Function to calculate factorial.\n",
    "    Argument:\n",
    "    ---\n",
    "    n must be integer larger or equal to zero\n",
    "    \n",
    "    Return:\n",
    "    ---\n",
    "    Factorial\"\"\"\n",
    "    if n >= 0:\n",
    "        return 1 if n<=0 else n * factorial(n - 1)"
   ]
  },
  {
   "cell_type": "code",
   "execution_count": 13,
   "id": "e68617de-1885-4d12-8506-1e052a438b6b",
   "metadata": {},
   "outputs": [
    {
     "data": {
      "text/plain": [
       "120"
      ]
     },
     "execution_count": 13,
     "metadata": {},
     "output_type": "execute_result"
    }
   ],
   "source": [
    "factorial(5)"
   ]
  },
  {
   "cell_type": "code",
   "execution_count": 14,
   "id": "d0523612-4529-4790-965a-159414356fa4",
   "metadata": {},
   "outputs": [
    {
     "data": {
      "text/plain": [
       "720"
      ]
     },
     "execution_count": 14,
     "metadata": {},
     "output_type": "execute_result"
    }
   ],
   "source": [
    "factorial(6)"
   ]
  },
  {
   "cell_type": "markdown",
   "id": "b384fb2a-063f-493d-916f-2d4cda85d268",
   "metadata": {},
   "source": [
    "## NumPy module"
   ]
  },
  {
   "cell_type": "code",
   "execution_count": 22,
   "id": "1e2a0d01-4599-487e-843f-287214de3933",
   "metadata": {},
   "outputs": [
    {
     "data": {
      "text/plain": [
       "array([1, 2, 3, 4, 5])"
      ]
     },
     "execution_count": 22,
     "metadata": {},
     "output_type": "execute_result"
    }
   ],
   "source": [
    "import numpy as np\n",
    "\n",
    "a = np.array([1, 2, 3, 4, 5])\n",
    "a"
   ]
  },
  {
   "cell_type": "code",
   "execution_count": 23,
   "id": "40bb7676-5e42-4d9a-abc9-cf1a6ee24344",
   "metadata": {},
   "outputs": [
    {
     "data": {
      "text/plain": [
       "array([ 6,  7,  8,  9, 10])"
      ]
     },
     "execution_count": 23,
     "metadata": {},
     "output_type": "execute_result"
    }
   ],
   "source": [
    "b = np.arange(6, 11)\n",
    "b"
   ]
  },
  {
   "cell_type": "code",
   "execution_count": 24,
   "id": "b189f9d0-70da-4144-ad95-45765283ba5a",
   "metadata": {},
   "outputs": [
    {
     "data": {
      "text/plain": [
       "array([ 1,  2,  3,  4,  5,  6,  7,  8,  9, 10])"
      ]
     },
     "execution_count": 24,
     "metadata": {},
     "output_type": "execute_result"
    }
   ],
   "source": [
    "long_arr = np.concatenate((a, b), axis=None)\n",
    "long_arr"
   ]
  },
  {
   "cell_type": "code",
   "execution_count": 25,
   "id": "64dd6dbe-7737-44b8-adc7-ad99bc209a5f",
   "metadata": {},
   "outputs": [
    {
     "data": {
      "text/plain": [
       "(10,)"
      ]
     },
     "execution_count": 25,
     "metadata": {},
     "output_type": "execute_result"
    }
   ],
   "source": [
    "long_arr.shape"
   ]
  },
  {
   "cell_type": "code",
   "execution_count": 26,
   "id": "4a35173a-59b1-4d63-b71c-6fba77de0579",
   "metadata": {},
   "outputs": [
    {
     "data": {
      "text/plain": [
       "array([[ 1,  2,  3,  4,  5],\n",
       "       [ 6,  7,  8,  9, 10]])"
      ]
     },
     "execution_count": 26,
     "metadata": {},
     "output_type": "execute_result"
    }
   ],
   "source": [
    "a = a.reshape(1, -1)\n",
    "b = b.reshape(1, -1)\n",
    "ab = np.concatenate((a, b), axis=0)\n",
    "ab"
   ]
  },
  {
   "cell_type": "code",
   "execution_count": 27,
   "id": "4e3859ea-0d56-4a0f-8c9f-d80a8c428688",
   "metadata": {},
   "outputs": [
    {
     "data": {
      "text/plain": [
       "(2, 5)"
      ]
     },
     "execution_count": 27,
     "metadata": {},
     "output_type": "execute_result"
    }
   ],
   "source": [
    "ab.shape"
   ]
  },
  {
   "cell_type": "markdown",
   "id": "c474d59c-62a1-4d19-ad7e-b8a779cdfef4",
   "metadata": {},
   "source": [
    "## Create simple image with NumPy and display them with matplotlib"
   ]
  },
  {
   "cell_type": "code",
   "execution_count": 28,
   "id": "2a856c28-daee-4ca3-8a13-9c32ba4dfa33",
   "metadata": {},
   "outputs": [],
   "source": [
    "import matplotlib.pyplot as plt"
   ]
  },
  {
   "cell_type": "code",
   "execution_count": 29,
   "id": "366210f0-97b0-49dd-b9b7-200148d62fbc",
   "metadata": {},
   "outputs": [
    {
     "data": {
      "image/png": "[encoded data removed]",
      "text/plain": [
       "<Figure size 640x480 with 1 Axes>"
      ]
     },
     "metadata": {},
     "output_type": "display_data"
    }
   ],
   "source": [
    "black = np.zeros((200, 200), dtype=np.uint8)\n",
    "\n",
    "plt.imshow(black, cmap=\"gray\", vmin=0, vmax=255)\n",
    "plt.title(\"black grayscale\")\n",
    "plt.show()"
   ]
  },
  {
   "cell_type": "code",
   "execution_count": 30,
   "id": "215d307f-232f-493b-a690-7bea72154b3e",
   "metadata": {},
   "outputs": [
    {
     "data": {
      "image/png": "[encoded data removed]",
      "text/plain": [
       "<Figure size 640x480 with 1 Axes>"
      ]
     },
     "metadata": {},
     "output_type": "display_data"
    }
   ],
   "source": [
    "white = np.zeros((200, 200)) + 255\n",
    "white = np.uint8(white)\n",
    "\n",
    "plt.imshow(white, cmap=\"gray\", vmin=0, vmax=255)\n",
    "plt.title(\"white grayscale\")\n",
    "plt.show()"
   ]
  },
  {
   "cell_type": "code",
   "execution_count": 31,
   "id": "cd9d9972-4842-4887-9c50-c4be4b5a67ef",
   "metadata": {},
   "outputs": [
    {
     "data": {
      "image/png": "[encoded data removed]",
      "text/plain": [
       "<Figure size 640x480 with 1 Axes>"
      ]
     },
     "metadata": {},
     "output_type": "display_data"
    }
   ],
   "source": [
    "rng = np.random.default_rng(555)\n",
    "random_noise_color = rng.integers(0, high=256, size=(100, 100, 3), dtype=np.uint8)\n",
    "\n",
    "plt.imshow(random_noise_color)\n",
    "plt.title(\"color image random\")\n",
    "plt.show()"
   ]
  },
  {
   "cell_type": "markdown",
   "id": "ab2fe9ac",
   "metadata": {},
   "source": [
    "## Exercise"
   ]
  },
  {
   "cell_type": "code",
   "execution_count": 1,
   "id": "6f2f876f-a314-4768-86b0-5915e2d59b6e",
   "metadata": {},
   "outputs": [
    {
     "name": "stdout",
     "output_type": "stream",
     "text": [
      "uint8 range: (0, 255)\n",
      "int8 range: (-128, 127)\n",
      "uint32 range: (0, 4294967295)\n",
      "int32 range: (-2147483648, 2147483647)\n"
     ]
    }
   ],
   "source": [
    "import numpy as np\n",
    "\n",
    "# uint8\n",
    "uint8_range = (np.iinfo(np.uint8).min, np.iinfo(np.uint8).max)\n",
    "\n",
    "# int8\n",
    "int8_range = (np.iinfo(np.int8).min, np.iinfo(np.int8).max)\n",
    "\n",
    "# uint32\n",
    "uint32_range = (np.iinfo(np.uint32).min, np.iinfo(np.uint32).max)\n",
    "\n",
    "# int32\n",
    "int32_range = (np.iinfo(np.int32).min, np.iinfo(np.int32).max)\n",
    "\n",
    "print(\"uint8 range:\", uint8_range)\n",
    "print(\"int8 range:\", int8_range)\n",
    "print(\"uint32 range:\", uint32_range)\n",
    "print(\"int32 range:\", int32_range)"
   ]
  },
  {
   "cell_type": "code",
   "execution_count": null,
   "id": "ec8da1f9",
   "metadata": {},
   "outputs": [],
   "source": [
    "def odd_even(x):\n",
    "    # set up a if control flow\n",
    "    if isinstance(x, int):\n",
    "        if (x % 2 == 0) and (x != 0):\n",
    "            print(f\"{x} is an even integer.\")\n",
    "        elif x % 2 == 1:\n",
    "            print(f\"{x} is an odd integer\")\n",
    "        elif x == 0:\n",
    "            print(f\"{x} is neither 0\")\n",
    "\n",
    "    else:\n",
    "        print(f\"{x} is not an integer.\")"
   ]
  },
  {
   "cell_type": "code",
   "execution_count": 2,
   "id": "925508c4",
   "metadata": {},
   "outputs": [
    {
     "name": "stdout",
     "output_type": "stream",
     "text": [
      "NumPy time: 0.004568815231323242 seconds\n",
      "Python list time: 0.14530134201049805 seconds\n"
     ]
    }
   ],
   "source": [
    "import numpy as np\n",
    "import time\n",
    "\n",
    "# Define the size of the arrays\n",
    "size = 1000000\n",
    "\n",
    "# Create large arrays\n",
    "numpy_array = np.arange(size)\n",
    "python_list = list(range(size))\n",
    "\n",
    "# Measure time for NumPy array multiplication\n",
    "start_time = time.time()\n",
    "numpy_result = numpy_array * numpy_array\n",
    "numpy_time = time.time() - start_time\n",
    "\n",
    "# Measure time for Python list multiplication\n",
    "start_time = time.time()\n",
    "python_result = [x * x for x in python_list]\n",
    "python_time = time.time() - start_time\n",
    "\n",
    "print(f\"NumPy time: {numpy_time} seconds\")\n",
    "print(f\"Python list time: {python_time} seconds\")"
   ]
  },
  {
   "cell_type": "code",
   "execution_count": 3,
   "id": "7fd99f5b",
   "metadata": {},
   "outputs": [
    {
     "name": "stdout",
     "output_type": "stream",
     "text": [
      "Initial my_arr:  [0 1 2 3 4 5 6 7 8 9]\n",
      "Initial arr_slice:  [0 1 2 3 4 5 6 7 8 9]\n",
      "my_arr:  [55  1  2  3  4  5  6  7  8  9]\n",
      "arr_slice:  [55  1  2  3  4  5  6  7  8  9]\n"
     ]
    }
   ],
   "source": [
    "import numpy as np\n",
    "\n",
    "# Create a 1D array\n",
    "my_arr = np.arange(10)\n",
    "print(\"Initial my_arr: \", my_arr)\n",
    "\n",
    "# Create a view of the array\n",
    "arr_slice = my_arr\n",
    "print(\"Initial arr_slice: \", arr_slice)\n",
    "\n",
    "# Change the first element of arr_slice\n",
    "arr_slice[0] = 55\n",
    "\n",
    "print(\"my_arr: \", my_arr)\n",
    "print(\"arr_slice: \", arr_slice)"
   ]
  },
  {
   "cell_type": "code",
   "execution_count": 8,
   "id": "3792481d",
   "metadata": {},
   "outputs": [
    {
     "data": {
      "image/png": "[encoded data removed]",
      "text/plain": [
       "<Figure size 640x480 with 1 Axes>"
      ]
     },
     "metadata": {},
     "output_type": "display_data"
    }
   ],
   "source": [
    "import numpy as np\n",
    "import matplotlib.pyplot as plt\n",
    "\n",
    "# Define the dimensions of the image\n",
    "height, width = 200, 200\n",
    "\n",
    "# Create a black background\n",
    "image = np.zeros((height, width), dtype=np.uint8)\n",
    "\n",
    "# Define the center and radius of the white circle\n",
    "center = (height // 2, width // 2)\n",
    "radius = 30\n",
    "\n",
    "# Create a meshgrid\n",
    "Y, X = np.ogrid[:height, :width]\n",
    "\n",
    "# Create a mask for the circle\n",
    "dist_from_center = np.sqrt((X - center[1])**2 + (Y - center[0])**2)\n",
    "mask = dist_from_center <= radius\n",
    "\n",
    "# Apply the mask to the image\n",
    "image[mask] = 255\n",
    "\n",
    "# Display the image using matplotlib\n",
    "plt.imshow(image, cmap='gray')\n",
    "plt.axis('off')\n",
    "plt.show()"
   ]
  },
  {
   "cell_type": "code",
   "execution_count": null,
   "id": "71a5254e",
   "metadata": {},
   "outputs": [],
   "source": []
  }
 ],
 "metadata": {
  "kernelspec": {
   "display_name": "Python 3 (ipykernel)",
   "language": "python",
   "name": "python3"
  },
  "language_info": {
   "codemirror_mode": {
    "name": "ipython",
    "version": 3
   },
   "file_extension": ".py",
   "mimetype": "text/x-python",
   "name": "python",
   "nbconvert_exporter": "python",
   "pygments_lexer": "ipython3",
   "version": "3.10.9"
  }
 },
 "nbformat": 4,
 "nbformat_minor": 5
}
